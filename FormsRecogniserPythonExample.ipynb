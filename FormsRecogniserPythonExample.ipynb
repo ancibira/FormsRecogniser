{
 "cells": [
  {
   "cell_type": "markdown",
   "metadata": {},
   "source": [
    "# Forms Recogniser Python Example\n",
    "\n",
    "6th April 2020\n",
    "\n",
    "Microsoft Forms Recogniser Python Tutorial\n",
    "\n",
    "\n",
    "https://docs.microsoft.com/en-us/azure/cognitive-services/form-recognizer/quickstarts/python-train-extract"
   ]
  },
  {
   "cell_type": "markdown",
   "metadata": {},
   "source": [
    "## 1. Load the Required Libraries"
   ]
  },
  {
   "cell_type": "code",
   "execution_count": null,
   "metadata": {},
   "outputs": [],
   "source": [
    "# load environment variables\n",
    "import azure, json, os, requests\n",
    "import pandas as pd\n",
    "from dotenv import load_dotenv\n",
    "import sys\n",
    "import time\n",
    "from requests import get, post"
   ]
  },
  {
   "cell_type": "code",
   "execution_count": null,
   "metadata": {},
   "outputs": [],
   "source": [
    "load_dotenv(verbose=True)"
   ]
  },
  {
   "cell_type": "markdown",
   "metadata": {},
   "source": [
    "## 2. Train the Model "
   ]
  },
  {
   "cell_type": "code",
   "execution_count": null,
   "metadata": {},
   "outputs": [],
   "source": [
    "########### Python Form Recognizer Labeled Async Train #############\n",
    "\n",
    "# Endpoint URL\n",
    "endpoint = r\"https://formrecogniserapi.cognitiveservices.azure.com/\"\n",
    "post_url = endpoint + r\"/formrecognizer/v2.0-preview/custom/models\"\n",
    "source = r\"https://formsstorageamc.blob.core.windows.net/trainingforms?\"+os.getenv(\"SAS_KEY\")\n",
    "prefix = \"\"\n",
    "includeSubFolders = False\n",
    "useLabelFile = False\n",
    "\n",
    "headers = {\n",
    "    # Request headers\n",
    "    'Content-Type': 'application/json',\n",
    "    'Ocp-Apim-Subscription-Key': os.getenv(\"SUBKEY\"),\n",
    "}\n",
    "\n",
    "body = \t{\n",
    "    \"source\": source,\n",
    "    \"sourceFilter\": {\n",
    "        \"prefix\": prefix,\n",
    "        \"includeSubFolders\": includeSubFolders\n",
    "    },\n",
    "    \"useLabelFile\": useLabelFile\n",
    "}\n",
    "\n",
    "try:\n",
    "    resp = post(url = post_url, json = body, headers = headers)\n",
    "    if resp.status_code != 201:\n",
    "        print(\"POST model failed (%s):\\n%s\" % (resp.status_code, json.dumps(resp.json())))\n",
    "        quit()\n",
    "    print(\"POST model succeeded:\\n%s\" % resp.headers)\n",
    "    get_url = resp.headers[\"location\"]\n",
    "except Exception as e:\n",
    "    print(\"POST model failed:\\n%s\" % str(e))\n",
    "    quit()\n",
    "\n"
   ]
  },
  {
   "cell_type": "code",
   "execution_count": null,
   "metadata": {},
   "outputs": [],
   "source": [
    "# make sure to save the model ID as a variable which we will use in later steps\n",
    "\n",
    "n_tries = 15\n",
    "n_try = 0\n",
    "wait_sec = 5\n",
    "max_wait_sec = 60\n",
    "while n_try < n_tries:\n",
    "    try:\n",
    "        resp = get(url = get_url, headers = headers)\n",
    "        resp_json = resp.json()\n",
    "        if resp.status_code != 200:\n",
    "            print(\"GET model failed (%s):\\n%s\" % (resp.status_code, json.dumps(resp_json)))\n",
    "            quit()\n",
    "        model_status = resp_json[\"modelInfo\"][\"status\"]\n",
    "        if model_status == \"ready\":\n",
    "            print(\"Training succeeded:\\n%s\" % json.dumps(resp_json, indent=4, sort_keys=True))\n",
    "            modelID = resp_json[\"modelInfo\"][\"modelId\"]\n",
    "            print(modelID)\n",
    "            break\n",
    "        if model_status == \"invalid\":\n",
    "            print(\"Training failed. Model is invalid:\\n%s\" % json.dumps(resp_json))\n",
    "            quit()\n",
    "        # Training still running. Wait and retry.\n",
    "        time.sleep(wait_sec)\n",
    "        n_try += 1\n",
    "        wait_sec = min(2*wait_sec, max_wait_sec)     \n",
    "    except Exception as e:\n",
    "        msg = \"GET model failed:\\n%s\" % str(e)\n",
    "        print(msg)\n",
    "        quit()"
   ]
  },
  {
   "cell_type": "code",
   "execution_count": null,
   "metadata": {},
   "outputs": [],
   "source": [
    "x = os.getenv(\"file_path\")\n",
    "x"
   ]
  },
  {
   "cell_type": "markdown",
   "metadata": {},
   "source": [
    "## 3. Perform Model Inferencing on a Local Dcoument"
   ]
  },
  {
   "cell_type": "code",
   "execution_count": null,
   "metadata": {},
   "outputs": [],
   "source": [
    "# local path of document\n",
    "source = os.getenv(\"file_path\")\n",
    "\n",
    "# Endpoint URL\n",
    "apim_key = os.getenv(\"SUBKEY\")\n",
    "model_id = modelID\n",
    "post_url = endpoint + \"/formrecognizer/v2.0-preview/custom/models/%s/analyze\" % model_id\n",
    "params = {\n",
    "    \"includeTextDetails\": True\n",
    "}\n",
    "\n",
    "headers = {\n",
    "    # Request headers\n",
    "    'Content-Type': 'application/pdf',\n",
    "    'Ocp-Apim-Subscription-Key': apim_key,\n",
    "}\n",
    "with open(source, \"rb\") as f:\n",
    "    data_bytes = f.read()\n",
    "\n",
    "try:\n",
    "    resp = post(url = post_url, data = data_bytes, headers = headers, params = params)\n",
    "    if resp.status_code != 202:\n",
    "        print(\"POST analyze failed:\\n%s\" % json.dumps(resp.json()))\n",
    "        quit()\n",
    "    print(\"POST analyze succeeded:\\n%s\" % resp.headers)\n",
    "    get_url = resp.headers[\"operation-location\"]\n",
    "except Exception as e:\n",
    "    print(\"POST analyze failed:\\n%s\" % str(e))\n",
    "    quit()\n",
    "    \n"
   ]
  },
  {
   "cell_type": "code",
   "execution_count": null,
   "metadata": {},
   "outputs": [],
   "source": [
    "n_tries = 15\n",
    "n_try = 0\n",
    "wait_sec = 5\n",
    "max_wait_sec = 60\n",
    "while n_try < n_tries:\n",
    "    try:\n",
    "        resp = get(url = get_url, headers = {\"Ocp-Apim-Subscription-Key\": apim_key})\n",
    "        resp_json = resp.json()\n",
    "        if resp.status_code != 200:\n",
    "            print(\"GET analyze results failed:\\n%s\" % json.dumps(resp_json))\n",
    "            quit()\n",
    "        status = resp_json[\"status\"]\n",
    "        if status == \"succeeded\":\n",
    "            print(\"Analysis succeeded:\\n%s\" % json.dumps(resp_json, indent=4, sort_keys=True))\n",
    "            break\n",
    "        if status == \"failed\":\n",
    "            print(\"Analysis failed:\\n%s\" % json.dumps(resp_json))\n",
    "            quit()\n",
    "        # Analysis still running. Wait and retry.\n",
    "        time.sleep(wait_sec)\n",
    "        n_try += 1\n",
    "        wait_sec = min(2*wait_sec, max_wait_sec)     \n",
    "    except Exception as e:\n",
    "        msg = \"GET analyze results failed:\\n%s\" % str(e)\n",
    "        print(msg)\n",
    "        quit()"
   ]
  }
 ],
 "metadata": {
  "kernelspec": {
   "display_name": "Python 3",
   "language": "python",
   "name": "python3"
  },
  "language_info": {
   "codemirror_mode": {
    "name": "ipython",
    "version": 3
   },
   "file_extension": ".py",
   "mimetype": "text/x-python",
   "name": "python",
   "nbconvert_exporter": "python",
   "pygments_lexer": "ipython3",
   "version": "3.7.4"
  }
 },
 "nbformat": 4,
 "nbformat_minor": 2
}
